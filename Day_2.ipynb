{
 "cells": [
  {
   "cell_type": "code",
   "execution_count": null,
   "id": "3eff1d80-bf56-4442-9f5b-82f097720f3d",
   "metadata": {},
   "outputs": [],
   "source": [
    "Variables are like containers used to store data values"
   ]
  },
  {
   "cell_type": "code",
   "execution_count": 8,
   "id": "8e142371-b6d6-499d-b5eb-eac7000340d9",
   "metadata": {},
   "outputs": [],
   "source": [
    "x = 2\n",
    "y = 3\n"
   ]
  },
  {
   "cell_type": "code",
   "execution_count": 9,
   "id": "312bcdd0-8722-45d6-b2c5-79bb5d85eda0",
   "metadata": {},
   "outputs": [
    {
     "name": "stdout",
     "output_type": "stream",
     "text": [
      "5\n"
     ]
    }
   ],
   "source": [
    "z = x+y\n",
    "print(z)"
   ]
  },
  {
   "cell_type": "code",
   "execution_count": null,
   "id": "ef8e1543-19e0-4dc3-b658-2f58af071218",
   "metadata": {},
   "outputs": [],
   "source": [
    "Rules for declaring the variables :"
   ]
  },
  {
   "cell_type": "code",
   "execution_count": null,
   "id": "871fca35-420e-4c4f-97c2-1ab827a3e0c0",
   "metadata": {},
   "outputs": [],
   "source": [
    "Rule no 1 :- No namespaces while declaring the variables"
   ]
  },
  {
   "cell_type": "code",
   "execution_count": 11,
   "id": "6bb13ce2-840f-4c3a-9e14-6108a60cb233",
   "metadata": {},
   "outputs": [
    {
     "ename": "SyntaxError",
     "evalue": "invalid syntax (3557170542.py, line 1)",
     "output_type": "error",
     "traceback": [
      "\u001b[1;36m  Cell \u001b[1;32mIn[11], line 1\u001b[1;36m\u001b[0m\n\u001b[1;33m    first name = 'Sarvadnya'\u001b[0m\n\u001b[1;37m          ^\u001b[0m\n\u001b[1;31mSyntaxError\u001b[0m\u001b[1;31m:\u001b[0m invalid syntax\n"
     ]
    }
   ],
   "source": [
    "first name = 'Sarvadnya'\n",
    "print(first name)"
   ]
  },
  {
   "cell_type": "code",
   "execution_count": 12,
   "id": "3415f291-6f71-4bf7-8e86-d0aa2e3c19b0",
   "metadata": {},
   "outputs": [
    {
     "name": "stdout",
     "output_type": "stream",
     "text": [
      "Sarvadnya\n"
     ]
    }
   ],
   "source": [
    "firstname = 'Sarvadnya'\n",
    "print(firstname)"
   ]
  },
  {
   "cell_type": "code",
   "execution_count": 14,
   "id": "6ae5e21e-59d9-40f9-bb2c-c8c17d2c49f6",
   "metadata": {},
   "outputs": [
    {
     "name": "stdout",
     "output_type": "stream",
     "text": [
      "Sarvadnya\n"
     ]
    }
   ],
   "source": [
    "first_name = 'Sarvadnya'\n",
    "print(first_name)"
   ]
  },
  {
   "cell_type": "code",
   "execution_count": null,
   "id": "d3965c69-4bfc-472a-9226-20a84067caee",
   "metadata": {},
   "outputs": [],
   "source": [
    "Rule no 2 :- A variable name should not start with a number"
   ]
  },
  {
   "cell_type": "code",
   "execution_count": 15,
   "id": "13391330-985c-4a71-9882-3406c64c07a8",
   "metadata": {},
   "outputs": [
    {
     "ename": "SyntaxError",
     "evalue": "invalid decimal literal (1873958972.py, line 1)",
     "output_type": "error",
     "traceback": [
      "\u001b[1;36m  Cell \u001b[1;32mIn[15], line 1\u001b[1;36m\u001b[0m\n\u001b[1;33m    1name = 'Sarvadnya'\u001b[0m\n\u001b[1;37m    ^\u001b[0m\n\u001b[1;31mSyntaxError\u001b[0m\u001b[1;31m:\u001b[0m invalid decimal literal\n"
     ]
    }
   ],
   "source": [
    "1name = 'Sarvadnya'\n",
    "print(1name)"
   ]
  },
  {
   "cell_type": "code",
   "execution_count": 16,
   "id": "81419f00-8d9f-4db4-8bab-9b8b3883e0cd",
   "metadata": {},
   "outputs": [
    {
     "name": "stdout",
     "output_type": "stream",
     "text": [
      "Sarvadnya\n"
     ]
    }
   ],
   "source": [
    "name1 = 'Sarvadnya'\n",
    "print(name1)"
   ]
  },
  {
   "cell_type": "code",
   "execution_count": null,
   "id": "70921251-3aaf-413e-9391-82d2e4f9891b",
   "metadata": {},
   "outputs": [],
   "source": [
    "Rule no 3 :- A variable name should not contain any special characters\n",
    "\n",
    "     ! @ # $ % ^ & *"
   ]
  },
  {
   "cell_type": "code",
   "execution_count": 18,
   "id": "ee6c3045-533a-486c-a4e7-dd1ac3384914",
   "metadata": {},
   "outputs": [
    {
     "ename": "SyntaxError",
     "evalue": "invalid syntax (3070405126.py, line 1)",
     "output_type": "error",
     "traceback": [
      "\u001b[1;36m  Cell \u001b[1;32mIn[18], line 1\u001b[1;36m\u001b[0m\n\u001b[1;33m    name$ = 'Sarvadnya'\u001b[0m\n\u001b[1;37m        ^\u001b[0m\n\u001b[1;31mSyntaxError\u001b[0m\u001b[1;31m:\u001b[0m invalid syntax\n"
     ]
    }
   ],
   "source": [
    "name$ = 'Sarvadnya'\n",
    "print(name$)"
   ]
  },
  {
   "cell_type": "code",
   "execution_count": null,
   "id": "471790f4-dc66-4fab-86e8-61adc9a4ebb3",
   "metadata": {},
   "outputs": [],
   "source": [
    "Introduction to datatypes :-\n",
    "\n",
    "   1. Strings ====> str\n",
    "   2. numbers ======>integers======> int\n",
    "   3. FLoats(Decimals) =======> 0.1 , 0.2 =======> float\n",
    "   4. Lists =======> list\n",
    "   5. Tuples =======> tuple\n",
    "   6. Dictornary =====> dict \n",
    "   "
   ]
  },
  {
   "cell_type": "code",
   "execution_count": null,
   "id": "1214eb84-608c-4912-bcf2-93440ccca514",
   "metadata": {},
   "outputs": [],
   "source": [
    "Classification of datatypes :- \n",
    "        Broadly datatypes are classified into two categories  :-\n",
    "        1. Mutable Datatypes ==> this are flexible in nature ==> which we can edit and alter\n",
    "        2. Immutable Datatypes ==> this are fixed in nature ==> which we cannot be able to edit and alter\n"
   ]
  },
  {
   "cell_type": "code",
   "execution_count": null,
   "id": "9ab17f23-ce1a-492a-aa28-c92f2653d35d",
   "metadata": {},
   "outputs": [],
   "source": [
    "Introduction to string datatypes :-\n",
    "\n",
    "Def :- A string is a series of characters declared in quotes\n",
    "Classification  :- It is classsified as an immutable datatypes\n",
    "how to declare the strings............?\n",
    "\n",
    "    1. Single quotes\n",
    "    2. Double quotes"
   ]
  },
  {
   "cell_type": "code",
   "execution_count": 24,
   "id": "9739de21-3f02-42be-a5b1-a144d11335ad",
   "metadata": {},
   "outputs": [
    {
     "name": "stdout",
     "output_type": "stream",
     "text": [
      "Virat\n"
     ]
    }
   ],
   "source": [
    "firstname = 'Virat'\n",
    "print(firstname)"
   ]
  },
  {
   "cell_type": "code",
   "execution_count": 25,
   "id": "c3ee1427-1c54-4a18-9a9a-3548aa5d59aa",
   "metadata": {},
   "outputs": [
    {
     "name": "stdout",
     "output_type": "stream",
     "text": [
      "Shahrukh\n"
     ]
    }
   ],
   "source": [
    "name = 'Shahrukh'\n",
    "print(name)"
   ]
  },
  {
   "cell_type": "code",
   "execution_count": null,
   "id": "0d6d1309-b9c0-4901-be54-da5337e154eb",
   "metadata": {},
   "outputs": [],
   "source": [
    "Introduction to string methods :-"
   ]
  },
  {
   "cell_type": "code",
   "execution_count": 26,
   "id": "92f322c2-1245-498d-90b5-53c8534872da",
   "metadata": {},
   "outputs": [
    {
     "data": {
      "text/plain": [
       "str"
      ]
     },
     "execution_count": 26,
     "metadata": {},
     "output_type": "execute_result"
    }
   ],
   "source": [
    "type (firstname)"
   ]
  },
  {
   "cell_type": "code",
   "execution_count": 28,
   "id": "d7d3e5c6-88e4-4480-bbd3-9efd4f660787",
   "metadata": {},
   "outputs": [
    {
     "data": {
      "text/plain": [
       "str"
      ]
     },
     "execution_count": 28,
     "metadata": {},
     "output_type": "execute_result"
    }
   ],
   "source": [
    "type (name)"
   ]
  },
  {
   "cell_type": "code",
   "execution_count": null,
   "id": "b40d5884-255f-490a-9fd7-22d8ac9b6a40",
   "metadata": {},
   "outputs": [],
   "source": [
    "Note :- Python is a case sensitive language"
   ]
  },
  {
   "cell_type": "code",
   "execution_count": null,
   "id": "b0f49575-c3b4-4d1b-80ca-a828d1e0125a",
   "metadata": {},
   "outputs": [],
   "source": [
    "# is used to comment on a code"
   ]
  },
  {
   "cell_type": "code",
   "execution_count": 30,
   "id": "485cf0de-575b-45ba-855a-34788385bbf4",
   "metadata": {},
   "outputs": [
    {
     "name": "stdout",
     "output_type": "stream",
     "text": [
      "carl johnson\n"
     ]
    }
   ],
   "source": [
    "fullname = 'carl johnson'\n",
    "print(fullname)"
   ]
  },
  {
   "cell_type": "code",
   "execution_count": 32,
   "id": "ed0c06eb-1471-43b4-949e-1ff0130fcc66",
   "metadata": {},
   "outputs": [
    {
     "name": "stdout",
     "output_type": "stream",
     "text": [
      "Carl Johnson\n"
     ]
    }
   ],
   "source": [
    "print(fullname.title())"
   ]
  },
  {
   "cell_type": "code",
   "execution_count": null,
   "id": "48dbe68e-689b-4962-a01d-a1dd744d3847",
   "metadata": {},
   "outputs": [],
   "source": [
    "# Req 1 :- I want the entire name in capital letters"
   ]
  },
  {
   "cell_type": "code",
   "execution_count": 33,
   "id": "18ca400a-3b28-4391-8c71-65a2c0d6bdfe",
   "metadata": {},
   "outputs": [
    {
     "name": "stdout",
     "output_type": "stream",
     "text": [
      "CARL JOHNSON\n"
     ]
    }
   ],
   "source": [
    "print(fullname.upper())"
   ]
  },
  {
   "cell_type": "code",
   "execution_count": null,
   "id": "b0079b2a-6884-456f-9ef5-4186a32e19cb",
   "metadata": {},
   "outputs": [],
   "source": [
    "#Req 2 :- I want the entire name in"
   ]
  },
  {
   "cell_type": "code",
   "execution_count": 34,
   "id": "6de51dc0-2e25-4e85-a412-5243ed8f3598",
   "metadata": {},
   "outputs": [
    {
     "name": "stdout",
     "output_type": "stream",
     "text": [
      "carl johnson\n"
     ]
    }
   ],
   "source": [
    "print(fullname.lower())"
   ]
  },
  {
   "cell_type": "code",
   "execution_count": null,
   "id": "da807598-414a-4b1d-bafe-cfe59a901f23",
   "metadata": {},
   "outputs": [],
   "source": []
  }
 ],
 "metadata": {
  "kernelspec": {
   "display_name": "Python 3 (ipykernel)",
   "language": "python",
   "name": "python3"
  },
  "language_info": {
   "codemirror_mode": {
    "name": "ipython",
    "version": 3
   },
   "file_extension": ".py",
   "mimetype": "text/x-python",
   "name": "python",
   "nbconvert_exporter": "python",
   "pygments_lexer": "ipython3",
   "version": "3.12.7"
  }
 },
 "nbformat": 4,
 "nbformat_minor": 5
}
